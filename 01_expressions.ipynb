{
  "nbformat": 4,
  "nbformat_minor": 0,
  "metadata": {
    "colab": {
      "provenance": [],
      "authorship_tag": "ABX9TyO29gHkaQ3cPJDn2h9MXe7v",
      "include_colab_link": true
    },
    "kernelspec": {
      "name": "python3",
      "display_name": "Python 3"
    },
    "language_info": {
      "name": "python"
    }
  },
  "cells": [
    {
      "cell_type": "markdown",
      "metadata": {
        "id": "view-in-github",
        "colab_type": "text"
      },
      "source": [
        "<a href=\"https://colab.research.google.com/github/RAFIA-HUSSAIN0/project_4_assignment/blob/main/01_expressions.ipynb\" target=\"_parent\"><img src=\"https://colab.research.google.com/assets/colab-badge.svg\" alt=\"Open In Colab\"/></a>"
      ]
    },
    {
      "cell_type": "code",
      "execution_count": 1,
      "metadata": {
        "colab": {
          "base_uri": "https://localhost:8080/"
        },
        "id": "6S3ztSj0R6Th",
        "outputId": "667f7fd9-f157-4d1b-f262-15ac0dda38cf"
      },
      "outputs": [
        {
          "output_type": "stream",
          "name": "stdout",
          "text": [
            "Die in main() starts as: 10\n",
            "Total of two dice: 9\n",
            "Total of two dice: 7\n",
            "Total of two dice: 11\n",
            "Die in main() is: 10\n"
          ]
        }
      ],
      "source": [
        "import random\n",
        "\n",
        "def roll_dice():\n",
        "    die1: int = random.randint(1, 6)\n",
        "    die2: int = random.randint(1, 6)\n",
        "    total: int = die1 + die2\n",
        "    print(f'Total of two dice: {total}')\n",
        "    return die1, die2  # Return values to ensure correct tracking of dice rolls\n",
        "\n",
        "def main():\n",
        "    die1: int = 10  # Initialize a variable in the main function\n",
        "    print(\"Die in main() starts as: \" + str(die1))\n",
        "    roll_dice()\n",
        "    roll_dice()\n",
        "    roll_dice()\n",
        "    print(\"Die in main() is: \" + str(die1))  # Corrected the syntax error here\n",
        "\n",
        "if __name__ == \"__main__\":  # Corrected the if statement\n",
        "    main()\n"
      ]
    },
    {
      "cell_type": "code",
      "source": [
        "def energy():\n",
        "    c: float = 299792458\n",
        "    m: float = float(input(\"Enter kilograms of mass: \"))\n",
        "    e: float = m * c ** 2\n",
        "    print(\"e = m * c^2\")\n",
        "    print(\"Mass = \" + str(m) + \" kg\")\n",
        "    print(\"C = \" + str(c) + \" m/s\")\n",
        "    print(\"Energy = \" + str(e) + \" joules\")\n",
        "\n",
        "if __name__ == \"__main__\":\n",
        "    energy()\n"
      ],
      "metadata": {
        "colab": {
          "base_uri": "https://localhost:8080/"
        },
        "id": "CZ7DKQPkVxac",
        "outputId": "7a0bfde7-4412-4909-d29e-f222b220766d"
      },
      "execution_count": 6,
      "outputs": [
        {
          "output_type": "stream",
          "name": "stdout",
          "text": [
            "Enter kilograms of mass: 7\n",
            "e = m * c^2\n",
            "Mass = 7.0 kg\n",
            "C = 299792458 m/s\n",
            "Energy = 6.291286251157723e+17 joules\n"
          ]
        }
      ]
    },
    {
      "cell_type": "code",
      "source": [
        "def foot():\n",
        "    inch: int = 12\n",
        "    feet: int = int(input(\"Enter feet and I will convert it into inches: \"))\n",
        "    print(f\"There are {feet * inch} inches in {feet} feet.\")\n",
        "\n",
        "if __name__ == \"__main__\":\n",
        "  foot()"
      ],
      "metadata": {
        "colab": {
          "base_uri": "https://localhost:8080/"
        },
        "id": "T_wgli1tWtjr",
        "outputId": "f279bb1b-1a58-43d6-8488-54cf912f592f"
      },
      "execution_count": 7,
      "outputs": [
        {
          "output_type": "stream",
          "name": "stdout",
          "text": [
            "Enter feet and I will convert it into inches: 7\n",
            "There are 84 inches in 7 feet.\n"
          ]
        }
      ]
    },
    {
      "cell_type": "code",
      "source": [
        "import math\n",
        "\n",
        "print(\"04_pythagorean_theorem\")\n",
        "\n",
        "def triangle():\n",
        "    ab: float = float(input(\"Enter the length of the side ab: \"))\n",
        "    ac: float = float(input(\"Enter the length of the side ac: \"))\n",
        "    bc: float = math.sqrt(ab**2 + ac**2)  # Hypotenuse calculation using Pythagorean theorem\n",
        "    print(f'The length of bc (the hypotenuse) is {bc}')  # Proper string formatting\n",
        "\n",
        "if __name__ == \"__main__\":  # Corrected the condition\n",
        "    triangle()\n"
      ],
      "metadata": {
        "colab": {
          "base_uri": "https://localhost:8080/"
        },
        "id": "vMZJ8pw5Xk0f",
        "outputId": "d66b5571-b1dd-49ab-9e69-b311f5e29bb3"
      },
      "execution_count": 8,
      "outputs": [
        {
          "output_type": "stream",
          "name": "stdout",
          "text": [
            "04_pythagorean_theorem\n",
            "Enter the length of the side ab: 32\n",
            "Enter the length of the side ac: 90\n",
            "The length of bc (the hypotenuse) is 95.51963149007642\n"
          ]
        }
      ]
    },
    {
      "cell_type": "code",
      "source": [
        "print(\"05_remainder_division\")\n",
        "\n",
        "def reminder():\n",
        "    num1: int = int(input(\"Enter an integer to be divided: \"))\n",
        "    num2: int = int(input(\"Enter an integer to divide by: \"))\n",
        "    quotient: int = num1 // num2  # Integer division to get the quotient\n",
        "    remainder: int = num1 % num2  # Modulus operator to get the remainder\n",
        "    print(f'The result of the division is {quotient} with the remainder of {remainder}')\n",
        "\n",
        "if __name__ == \"__main__\":  # Corrected the condition\n",
        "    reminder()\n"
      ],
      "metadata": {
        "colab": {
          "base_uri": "https://localhost:8080/"
        },
        "id": "3YJdMfjzX6Fr",
        "outputId": "1731e6fb-29f1-403e-8ad9-2d2edaf82c37"
      },
      "execution_count": 9,
      "outputs": [
        {
          "output_type": "stream",
          "name": "stdout",
          "text": [
            "05_remainder_division\n",
            "Enter an integer to be divided: 5\n",
            "Enter an integer to divide by: 9\n",
            "The result of the division is 0 with the remainder of 5\n"
          ]
        }
      ]
    },
    {
      "cell_type": "code",
      "source": [
        "import random\n",
        "print(\"06_rolldice.\")\n",
        "\n",
        "def dice():\n",
        "    die1: int = random.randint(1, 6)  # Corrected the assignment operator\n",
        "    die2: int = random.randint(1, 6)  # Corrected the assignment operator\n",
        "    total: int = die1 + die2  # Fixed the assignment to add the two dice rolls\n",
        "    print(\"First die: \" + str(die1))\n",
        "    print(\"Second die: \" + str(die2))\n",
        "    print(f'Total of two dice: {total}')\n",
        "\n",
        "if __name__ == \"__main__\":  # Corrected the __name__ condition\n",
        "    dice()\n"
      ],
      "metadata": {
        "colab": {
          "base_uri": "https://localhost:8080/"
        },
        "id": "ZkKVRKc6YPJn",
        "outputId": "693540d3-04bc-4b77-eeba-d13f8c8a76af"
      },
      "execution_count": 10,
      "outputs": [
        {
          "output_type": "stream",
          "name": "stdout",
          "text": [
            "06_rolldice.\n",
            "First die: 5\n",
            "Second die: 2\n",
            "Total of two dice: 7\n"
          ]
        }
      ]
    },
    {
      "cell_type": "code",
      "source": [
        "print(\"06_seconds_in_year\")\n",
        "\n",
        "days_in_year: int = 365  # Corrected assignment operator\n",
        "hours_per_day: int = 24\n",
        "minutes_per_hour: int = 60\n",
        "seconds_per_minute: int = 60\n",
        "\n",
        "def seconds():\n",
        "    # Corrected the f-string and added the correct calculation\n",
        "    total_seconds = days_in_year * hours_per_day * minutes_per_hour * seconds_per_minute\n",
        "    print(f'There are {total_seconds} seconds in a year!')  # Fixed the f-string syntax\n",
        "\n",
        "if __name__ == \"__main__\":  # Corrected the __name__ condition\n",
        "    seconds()\n",
        "\n"
      ],
      "metadata": {
        "colab": {
          "base_uri": "https://localhost:8080/"
        },
        "id": "xvBwnhI4Ydd6",
        "outputId": "d1fe3b7d-0fd8-4514-8e2f-15e1e39bc256"
      },
      "execution_count": 11,
      "outputs": [
        {
          "output_type": "stream",
          "name": "stdout",
          "text": [
            "06_seconds_in_year\n",
            "There are 31536000 seconds in a year!\n"
          ]
        }
      ]
    },
    {
      "cell_type": "code",
      "source": [
        "print(\"7_tiny_mad_lib\")\n",
        "\n",
        "def mad_lib():\n",
        "    noun: str = str(input(\"Enter a noun: \"))\n",
        "    adjective: str = str(input(\"Enter an adjective: \"))\n",
        "    verb: str = str(input(\"Enter a verb: \"))\n",
        "    print(f\"Do you {verb} your {adjective} {noun}?\")  # Fixed the f-string syntax\n",
        "\n",
        "if __name__ == \"__main__\":  # Corrected the __name__ condition\n",
        "    mad_lib()\n"
      ],
      "metadata": {
        "colab": {
          "base_uri": "https://localhost:8080/"
        },
        "id": "BdppqfhtYrnJ",
        "outputId": "0a54bb5f-5a20-4638-9a1a-e0f375bfcb32"
      },
      "execution_count": 12,
      "outputs": [
        {
          "output_type": "stream",
          "name": "stdout",
          "text": [
            "7_tiny_mad_lib\n",
            "Enter a noun: thin\n",
            "Enter an adjective: dance\n",
            "Enter a verb: gkow\n",
            "Do you gkow your dance thin?\n"
          ]
        }
      ]
    }
  ]
}