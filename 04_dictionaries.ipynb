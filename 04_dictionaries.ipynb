{
  "nbformat": 4,
  "nbformat_minor": 0,
  "metadata": {
    "colab": {
      "provenance": [],
      "authorship_tag": "ABX9TyM/0bSL503NAca3YRkHRocQ",
      "include_colab_link": true
    },
    "kernelspec": {
      "name": "python3",
      "display_name": "Python 3"
    },
    "language_info": {
      "name": "python"
    }
  },
  "cells": [
    {
      "cell_type": "markdown",
      "metadata": {
        "id": "view-in-github",
        "colab_type": "text"
      },
      "source": [
        "<a href=\"https://colab.research.google.com/github/RAFIA-HUSSAIN0/project_4_assignment/blob/main/04_dictionaries.ipynb\" target=\"_parent\"><img src=\"https://colab.research.google.com/assets/colab-badge.svg\" alt=\"Open In Colab\"/></a>"
      ]
    },
    {
      "cell_type": "code",
      "execution_count": 1,
      "metadata": {
        "colab": {
          "base_uri": "https://localhost:8080/"
        },
        "id": "PjKrAaCGpiKa",
        "outputId": "840010fd-4c4b-4ae6-ed0a-842354a795b0"
      },
      "outputs": [
        {
          "output_type": "stream",
          "name": "stdout",
          "text": [
            "00_count_nums\n",
            "Enter a number (or 'Exit' to quit): 5\n",
            "Enter a number (or 'Exit' to quit): 3\n",
            "Enter a number (or 'Exit' to quit): 8\n",
            "Enter a number (or 'Exit' to quit): u\n",
            "Invalid input. Please enter a number or 'Exit'.\n",
            "Enter a number (or 'Exit' to quit): 5\n",
            "Enter a number (or 'Exit' to quit): \n",
            "Invalid input. Please enter a number or 'Exit'.\n",
            "Enter a number (or 'Exit' to quit): \n",
            "Invalid input. Please enter a number or 'Exit'.\n",
            "Enter a number (or 'Exit' to quit): \n",
            "Invalid input. Please enter a number or 'Exit'.\n",
            "Enter a number (or 'Exit' to quit): exit\n",
            "\n",
            "Number Counts:\n",
            "5 appears 2 times.\n",
            "3 appears 1 times.\n",
            "8 appears 1 times.\n"
          ]
        }
      ],
      "source": [
        "print(\"00_count_nums\")\n",
        "\n",
        "def count_numbers():\n",
        "    count_dict = {}\n",
        "    while True:\n",
        "        num = input(\"Enter a number (or 'Exit' to quit): \")\n",
        "        if num.title() == 'Exit':  # Check if the user typed 'Exit' to stop the loop\n",
        "            break\n",
        "        if num.isdigit():  # Check if the input is a valid number\n",
        "            num = int(num)  # Convert the input string to an integer\n",
        "            count_dict[num] = count_dict.get(num, 0) + 1  # Update the count for the number\n",
        "        else:\n",
        "            print(\"Invalid input. Please enter a number or 'Exit'.\")\n",
        "    return count_dict\n",
        "\n",
        "def display_counts(count_dict):\n",
        "    print(\"\\nNumber Counts:\")\n",
        "    for key, value in count_dict.items():\n",
        "        print(f'{key} appears {value} times.')\n",
        "\n",
        "# Main Program\n",
        "if __name__ == \"__main__\":\n",
        "    count_dict = count_numbers()\n",
        "    display_counts(count_dict)\n"
      ]
    },
    {
      "cell_type": "code",
      "source": [
        "print(\"01_phonebook\")\n",
        "\n",
        "def add_contact(phonebook):\n",
        "    name = input(\"Enter contact name: \")\n",
        "    number = input(\"Enter contact number: \")  # Fixed the input assignment\n",
        "    if name in phonebook:\n",
        "        print(f\"{name} already exists in the phonebook.\")\n",
        "    else:\n",
        "        phonebook[name] = number\n",
        "        print(f\"{name} added to the phonebook.\")\n",
        "\n",
        "def search_contact(phonebook):\n",
        "    name = input(\"Enter contact name to search: \")\n",
        "    if name in phonebook:\n",
        "        print(f\"{name}: {phonebook[name]}\")  # Correctly formatted string with f-string\n",
        "    else:\n",
        "        print(f\"{name} not found in the phonebook.\")\n",
        "\n",
        "def display_contacts(phonebook):\n",
        "    if phonebook:\n",
        "        print(\"\\nContact List:\")\n",
        "        for name, number in phonebook.items():\n",
        "            print(f\"{name}: {number}\")\n",
        "    else:\n",
        "        print(\"Phonebook is empty.\")\n",
        "\n",
        "# Main Program\n",
        "if __name__ == \"__main__\":\n",
        "    phonebook = {}\n",
        "\n",
        "    while True:\n",
        "        print(\"\\nPhonebook Menu:\")\n",
        "        print(\"1. Add Contact\")\n",
        "        print(\"2. Search Contact\")\n",
        "        print(\"3. Display Contacts\")\n",
        "        print(\"4. Exit\")\n",
        "\n",
        "        choice = input(\"Enter your choice (1-4): \")\n",
        "\n",
        "        if choice == '1':\n",
        "            add_contact(phonebook)\n",
        "        elif choice == '2':\n",
        "            search_contact(phonebook)\n",
        "        elif choice == '3':\n",
        "            display_contacts(phonebook)\n",
        "        elif choice == '4':\n",
        "            print(\"Exiting the phonebook. Goodbye!\")\n",
        "            break\n",
        "        else:\n",
        "            print(\"Invalid choice. Please try again.\")\n"
      ],
      "metadata": {
        "colab": {
          "base_uri": "https://localhost:8080/"
        },
        "id": "K_cD1XzSrFU9",
        "outputId": "d9ae170b-483e-4ea4-e45a-b872a9868c04"
      },
      "execution_count": 3,
      "outputs": [
        {
          "output_type": "stream",
          "name": "stdout",
          "text": [
            "01_phonebook\n",
            "\n",
            "Phonebook Menu:\n",
            "1. Add Contact\n",
            "2. Search Contact\n",
            "3. Display Contacts\n",
            "4. Exit\n",
            "Enter your choice (1-4): 1\n",
            "Enter contact name: mahir\n",
            "Enter contact number: 07987027\n",
            "mahir added to the phonebook.\n",
            "\n",
            "Phonebook Menu:\n",
            "1. Add Contact\n",
            "2. Search Contact\n",
            "3. Display Contacts\n",
            "4. Exit\n",
            "Enter your choice (1-4): 2\n",
            "Enter contact name to search: mahir\n",
            "mahir: 07987027\n",
            "\n",
            "Phonebook Menu:\n",
            "1. Add Contact\n",
            "2. Search Contact\n",
            "3. Display Contacts\n",
            "4. Exit\n",
            "Enter your choice (1-4): exir\n",
            "Invalid choice. Please try again.\n",
            "\n",
            "Phonebook Menu:\n",
            "1. Add Contact\n",
            "2. Search Contact\n",
            "3. Display Contacts\n",
            "4. Exit\n",
            "Enter your choice (1-4): exit\n",
            "Invalid choice. Please try again.\n",
            "\n",
            "Phonebook Menu:\n",
            "1. Add Contact\n",
            "2. Search Contact\n",
            "3. Display Contacts\n",
            "4. Exit\n",
            "Enter your choice (1-4): exit\n",
            "Invalid choice. Please try again.\n",
            "\n",
            "Phonebook Menu:\n",
            "1. Add Contact\n",
            "2. Search Contact\n",
            "3. Display Contacts\n",
            "4. Exit\n",
            "Enter your choice (1-4): 4\n",
            "Exiting the phonebook. Goodbye!\n"
          ]
        }
      ]
    },
    {
      "cell_type": "code",
      "source": [
        "print(\"02_pop_up_shop\")\n",
        "\n",
        "def calculate_total_cost():\n",
        "    fruits_price = {\n",
        "        \"apple\": 5.0,\n",
        "        \"mango\": 15.0,\n",
        "        \"kiwi\": 8.0,\n",
        "        \"pear\": 12.0,\n",
        "        \"banana\": 6.0,\n",
        "        \"orange\": 10.0\n",
        "    }\n",
        "\n",
        "    total_cost = 0  # Initialize total cost to 0\n",
        "\n",
        "    # Iterate through the fruits and ask for quantity\n",
        "    for fruit, price in fruits_price.items():\n",
        "        while True:\n",
        "            try:\n",
        "                # Asking user to input the quantity\n",
        "                quantity = int(input(f'How many {fruit} do you want?: '))\n",
        "\n",
        "                if quantity < 0:\n",
        "                    print(\"Invalid input. Please enter a non-negative number.\")\n",
        "                    continue  # Ask for the input again\n",
        "\n",
        "                total_cost += price * quantity  # Add price * quantity to total cost\n",
        "                break  # Break the loop once valid input is given\n",
        "\n",
        "            except ValueError:\n",
        "                # Handle invalid input (non-numeric)\n",
        "                print(\"Invalid input. Please enter a valid number.\")\n",
        "\n",
        "    # Display total cost formatted to two decimal places\n",
        "    print(f\"\\nYour total cost is: ${total_cost:.2f}\")\n",
        "\n",
        "# Call the function to run the program\n",
        "if __name__ == \"__main__\":\n",
        "    calculate_total_cost()\n"
      ],
      "metadata": {
        "colab": {
          "base_uri": "https://localhost:8080/"
        },
        "id": "PYnxzmVpskRJ",
        "outputId": "6bc8a5d7-8a5f-4a17-e497-61707f3e2486"
      },
      "execution_count": 4,
      "outputs": [
        {
          "output_type": "stream",
          "name": "stdout",
          "text": [
            "02_pop_up_shop\n",
            "How many apple do you want?: 7\n",
            "How many mango do you want?: 3\n",
            "How many kiwi do you want?: 4]\n",
            "Invalid input. Please enter a valid number.\n",
            "How many kiwi do you want?: 2\n",
            "How many pear do you want?: 2\n",
            "How many banana do you want?: \n",
            "Invalid input. Please enter a valid number.\n",
            "How many banana do you want?: \n",
            "Invalid input. Please enter a valid number.\n",
            "How many banana do you want?: 5\n",
            "How many orange do you want?: 7\n",
            "\n",
            "Your total cost is: $220.00\n"
          ]
        }
      ]
    },
    {
      "cell_type": "code",
      "source": [
        "import hashlib\n",
        "\n",
        "print(\"03_powerful_passwords\")\n",
        "\n",
        "# Function to hash the password using SHA256\n",
        "def hash_password(password):\n",
        "    return hashlib.sha256(password.encode()).hexdigest()\n",
        "\n",
        "# Stored logins (hashed passwords)\n",
        "stored_logins = {\n",
        "    \"user@example.com\": hash_password(\"password123\"),\n",
        "    \"admin@example.com\": hash_password(\"adminpass\")\n",
        "}\n",
        "\n",
        "# Function to check if the login credentials are correct\n",
        "def login(email, password):\n",
        "    if email in stored_logins:\n",
        "        return stored_logins[email] == hash_password(password)\n",
        "    return False\n",
        "\n",
        "# Main function to handle the user input\n",
        "if __name__ == \"__main__\":\n",
        "    email = input(\"Enter your email: \")\n",
        "    password = input(\"Enter your password: \")\n",
        "\n",
        "    if login(email, password):\n",
        "        print(\"Login successful!\")\n",
        "    else:\n",
        "        print(\"Invalid email or password.\")\n"
      ],
      "metadata": {
        "colab": {
          "base_uri": "https://localhost:8080/"
        },
        "id": "58CQH2kKs5cG",
        "outputId": "b2918800-e04c-44f1-cdc8-1ec82bda8509"
      },
      "execution_count": 5,
      "outputs": [
        {
          "output_type": "stream",
          "name": "stdout",
          "text": [
            "03_powerful_passwords\n",
            "Enter your email: k;jksjkjkj\n",
            "Enter your password: lrl;klke;k;\n",
            "Invalid email or password.\n"
          ]
        }
      ]
    }
  ]
}