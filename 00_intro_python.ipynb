{
  "nbformat": 4,
  "nbformat_minor": 0,
  "metadata": {
    "colab": {
      "provenance": [],
      "authorship_tag": "ABX9TyPCn6DYlI8eyHa0TbMmV4az",
      "include_colab_link": true
    },
    "kernelspec": {
      "name": "python3",
      "display_name": "Python 3"
    },
    "language_info": {
      "name": "python"
    }
  },
  "cells": [
    {
      "cell_type": "markdown",
      "metadata": {
        "id": "view-in-github",
        "colab_type": "text"
      },
      "source": [
        "<a href=\"https://colab.research.google.com/github/RAFIA-HUSSAIN0/project_4_assignment/blob/main/00_intro_python.ipynb\" target=\"_parent\"><img src=\"https://colab.research.google.com/assets/colab-badge.svg\" alt=\"Open In Colab\"/></a>"
      ]
    },
    {
      "cell_type": "code",
      "execution_count": null,
      "metadata": {
        "colab": {
          "base_uri": "https://localhost:8080/"
        },
        "id": "T7YnECk5wxDj",
        "outputId": "98f7087d-b66e-45e7-a5d4-00786a958b2a"
      },
      "outputs": [
        {
          "output_type": "stream",
          "name": "stdout",
          "text": [
            "01_add_two_numbers\n",
            "This application is for adding two numbers\n",
            "Enter your first number: 8\n",
            "Enter your second number: 9\n",
            "The total sum of 8 and 9 is 17\n"
          ]
        }
      ],
      "source": [
        "print(\"01_add_two_numbers\")\n",
        "\n",
        "def add():\n",
        "    print(\"This application is for adding two numbers\")\n",
        "\n",
        "    first_number = int(input(\"Enter your first number: \"))\n",
        "    second_number = int(input(\"Enter your second number: \"))\n",
        "\n",
        "    total = first_number + second_number\n",
        "\n",
        "    print(f'The total sum of {first_number} and {second_number} is {total}')\n",
        "\n",
        "\n",
        "\n",
        "if __name__ == '__main__':\n",
        "    add()\n"
      ]
    },
    {
      "cell_type": "code",
      "source": [
        "def bot():\n",
        "    animal = input(\"What's your favorite animal? \")\n",
        "    print(\"My favorite animal is also \" + animal + \"!\")\n",
        "if __name__ == '__main__':\n",
        "    main()\n"
      ],
      "metadata": {
        "colab": {
          "base_uri": "https://localhost:8080/"
        },
        "id": "ab5AzXtk-uEQ",
        "outputId": "783f6fec-07eb-4bc4-c4e4-0086dff7ea27"
      },
      "execution_count": null,
      "outputs": [
        {
          "output_type": "stream",
          "name": "stdout",
          "text": [
            "What's your favorite animal? zebra\n",
            "My favorite animal is also zebra!\n"
          ]
        }
      ]
    },
    {
      "cell_type": "code",
      "source": [
        "def temperature():\n",
        "    fahrenheit = float(input(\"Enter temperature in Fahrenheit: \"))\n",
        "    celsius = (fahrenheit - 32) * 5.0 / 9.0\n",
        "    print(\"Temperature:\", str(fahrenheit) + \"F =\", str(celsius) + \"C\")\n",
        "\n",
        "if __name__ == '__main__':\n",
        "    main()\n"
      ],
      "metadata": {
        "colab": {
          "base_uri": "https://localhost:8080/"
        },
        "id": "dweLETLO-8Lp",
        "outputId": "e9092623-085b-4b88-805b-d7ede55aa380"
      },
      "execution_count": null,
      "outputs": [
        {
          "output_type": "stream",
          "name": "stdout",
          "text": [
            "Enter temperature in Fahrenheit: 100\n",
            "Temperature: 100.0F = 37.77777777777778C\n"
          ]
        }
      ]
    },
    {
      "cell_type": "code",
      "source": [
        "def main():\n",
        "    anton = 21\n",
        "    beth = 6 + anton\n",
        "    chen = 20 + beth\n",
        "    drew = chen + anton\n",
        "    ethan = chen\n",
        "\n",
        "    # Print out all of the ages!\n",
        "    print(\"Anton is \" + str(anton))\n",
        "    print(\"Beth is \" + str(beth))\n",
        "    print(\"Chen is \" + str(chen))\n",
        "    print(\"Drew is \" + str(drew))\n",
        "    print(\"Ethan is \" + str(ethan))\n",
        "\n",
        "\n",
        "if __name__ == '__main__':\n",
        "    main()\n"
      ],
      "metadata": {
        "colab": {
          "base_uri": "https://localhost:8080/"
        },
        "id": "bnb-3m88_BOd",
        "outputId": "65898d78-15dd-4df0-fdc0-49601027a994"
      },
      "execution_count": null,
      "outputs": [
        {
          "output_type": "stream",
          "name": "stdout",
          "text": [
            "Anton is 21\n",
            "Beth is 27\n",
            "Chen is 47\n",
            "Drew is 68\n",
            "Ethan is 47\n"
          ]
        }
      ]
    },
    {
      "cell_type": "code",
      "source": [
        "print(\"triangle perimeter\")\n",
        "\n",
        "def main():\n",
        "    # User se triangle ke sides ki lengths input karwana\n",
        "    side1 = float(input(\"What is the length of side 1? \"))\n",
        "    side2 = float(input(\"What is the length of side 2? \"))\n",
        "    side3 = float(input(\"What is the length of side 3? \"))\n",
        "\n",
        "    # Perimeter calculate karna (sum of all sides)\n",
        "    perimeter = side1 + side2 + side3\n",
        "\n",
        "    # Perimeter print karna\n",
        "    print(\"The perimeter of the triangle is\", perimeter)\n",
        "\n",
        "\n",
        "# This provided line is required at the end of\n",
        "# Python file to call the main() function.\n",
        "if __name__ == '__main__':\n",
        "    main()\n"
      ],
      "metadata": {
        "colab": {
          "base_uri": "https://localhost:8080/"
        },
        "id": "Uxl6t_EkCaJ2",
        "outputId": "365b4542-1edd-484d-bbef-180570e2083d"
      },
      "execution_count": null,
      "outputs": [
        {
          "output_type": "stream",
          "name": "stdout",
          "text": [
            "triangle perimeter\n",
            "What is the length of side 1? 5\n",
            "What is the length of side 2? 4\n",
            "What is the length of side 3? 3\n",
            "The perimeter of the triangle is 12.0\n"
          ]
        }
      ]
    },
    {
      "cell_type": "code",
      "source": [
        "print(\"06_square_number\")\n",
        "\n",
        "def square():\n",
        "  print(\"This code is about square of given number\")\n",
        "\n",
        "  num1:int = int(input(\"Enter any number and i will give u a square value. \"))\n",
        "\n",
        "  print(f'The square of {num1} is {num1 ** 2}')\n",
        "\n",
        "if __name__ == \"__main__\":\n",
        "\n",
        "  square()"
      ],
      "metadata": {
        "colab": {
          "base_uri": "https://localhost:8080/"
        },
        "id": "AXWKRsMUGtJx",
        "outputId": "1112955a-943a-4db6-a430-7cf9969a718f"
      },
      "execution_count": null,
      "outputs": [
        {
          "output_type": "stream",
          "name": "stdout",
          "text": [
            "06_square_number\n",
            "This code is about square of given number\n",
            "Enter any number and i will give u a square value. 4\n",
            "The square of 4 is 16\n"
          ]
        }
      ]
    }
  ]
}