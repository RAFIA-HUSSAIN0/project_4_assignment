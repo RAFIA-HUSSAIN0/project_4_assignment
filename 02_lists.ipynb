{
  "nbformat": 4,
  "nbformat_minor": 0,
  "metadata": {
    "colab": {
      "provenance": [],
      "authorship_tag": "ABX9TyO7YcNXkmMBlVzBn05fbkgP",
      "include_colab_link": true
    },
    "kernelspec": {
      "name": "python3",
      "display_name": "Python 3"
    },
    "language_info": {
      "name": "python"
    }
  },
  "cells": [
    {
      "cell_type": "markdown",
      "metadata": {
        "id": "view-in-github",
        "colab_type": "text"
      },
      "source": [
        "<a href=\"https://colab.research.google.com/github/RAFIA-HUSSAIN0/project_4_assignment/blob/main/02_lists.ipynb\" target=\"_parent\"><img src=\"https://colab.research.google.com/assets/colab-badge.svg\" alt=\"Open In Colab\"/></a>"
      ]
    },
    {
      "cell_type": "code",
      "execution_count": 2,
      "metadata": {
        "colab": {
          "base_uri": "https://localhost:8080/"
        },
        "id": "1jBcYRLDfCqG",
        "outputId": "f96062a2-7a40-45c3-c9c7-62513ec708ea"
      },
      "outputs": [
        {
          "output_type": "stream",
          "name": "stdout",
          "text": [
            "01_add_many_number\n",
            "15\n"
          ]
        }
      ],
      "source": [
        "print(\"01_add_many_number\")\n",
        "\n",
        "def add_number(numbers) -> int:\n",
        "    num = 0\n",
        "    for i in numbers:\n",
        "        num += i  # Correct the syntax for addition\n",
        "    return num\n",
        "\n",
        "def main():\n",
        "    numbers = [1, 2, 3, 4, 5]  # List of numbers\n",
        "    sum = add_number(numbers)  # Call the add_number function and store the result\n",
        "    print(sum)  # Print the sum\n",
        "\n",
        "if __name__ == \"__main__\":\n",
        "    main()  # Call the main function\n"
      ]
    },
    {
      "cell_type": "code",
      "source": [
        "print(\"02_double_list\")\n",
        "\n",
        "def main():\n",
        "    numbers = [1, 2, 3, 4, 5]\n",
        "    for i in range(len(numbers)):\n",
        "        index = numbers[i]\n",
        "        numbers[i] = index * 2\n",
        "    print(numbers)\n",
        "\n",
        "if __name__ == \"__main__\":\n",
        "    main()\n"
      ],
      "metadata": {
        "colab": {
          "base_uri": "https://localhost:8080/"
        },
        "id": "7tM0RE9nf_HX",
        "outputId": "0b0844a9-d758-4001-8d3a-6823e849717b"
      },
      "execution_count": 3,
      "outputs": [
        {
          "output_type": "stream",
          "name": "stdout",
          "text": [
            "02_double_list\n",
            "[2, 4, 6, 8, 10]\n"
          ]
        }
      ]
    },
    {
      "cell_type": "code",
      "source": [
        "jh\n",
        "print(\"04_flowing_with_data_structures\")\n",
        "\n",
        "def add_three_copies(lst, data):\n",
        "    for i in range(3):\n",
        "        lst.append(data)\n",
        "\n",
        "def main():\n",
        "    message = input(\"Enter a message to copy: \")\n",
        "    lst = []\n",
        "    print(\"Before list:\", lst)\n",
        "    add_three_copies(lst, message)\n",
        "    print(\"After list:\", lst)\n",
        "\n",
        "if __name__ == \"__main__\":\n",
        "    main()\n"
      ],
      "metadata": {
        "colab": {
          "base_uri": "https://localhost:8080/"
        },
        "id": "v3fObF-mgv7P",
        "outputId": "71fc9d13-e87d-4693-8268-929dff3bc80f"
      },
      "execution_count": 4,
      "outputs": [
        {
          "output_type": "stream",
          "name": "stdout",
          "text": [
            "04_flowing_with_data_structures\n",
            "Enter a message to copy: d\n",
            "Before list: []\n",
            "After list: ['d', 'd', 'd']\n"
          ]
        }
      ]
    },
    {
      "cell_type": "code",
      "source": [
        "print(\"05_get_first_element\")\n",
        "\n",
        "def get_first_element(lst):\n",
        "    print(lst[0])\n",
        "\n",
        "def get_1st():\n",
        "    lst = []\n",
        "    elem = input(\"Enter an element to add to the list: \")\n",
        "    while elem != \"\":\n",
        "        lst.append(elem)\n",
        "        elem = input(\"Enter an element to add to the list: \")\n",
        "    return lst\n",
        "\n",
        "def main():\n",
        "    lst = get_1st()\n",
        "    get_first_element(lst)\n",
        "\n",
        "if __name__ == \"__main__\":\n",
        "    main()\n"
      ],
      "metadata": {
        "colab": {
          "base_uri": "https://localhost:8080/"
        },
        "id": "2Hg6Xr7YhJgF",
        "outputId": "d971ea15-17ce-4e5c-8d64-2145a43173e2"
      },
      "execution_count": 5,
      "outputs": [
        {
          "output_type": "stream",
          "name": "stdout",
          "text": [
            "05_get_first_element\n",
            "Enter an element to add to the list: l\n",
            "Enter an element to add to the list: j\n",
            "Enter an element to add to the list: h\n",
            "Enter an element to add to the list: h\n",
            "Enter an element to add to the list: h\n",
            "Enter an element to add to the list: j\n",
            "Enter an element to add to the list: h\n",
            "Enter an element to add to the list: h\n",
            "Enter an element to add to the list: h\n",
            "Enter an element to add to the list: h\n",
            "Enter an element to add to the list: h\n",
            "Enter an element to add to the list: h\n",
            "Enter an element to add to the list: h\n",
            "Enter an element to add to the list: h\n",
            "Enter an element to add to the list: h\n",
            "Enter an element to add to the list: \n",
            "l\n"
          ]
        }
      ]
    },
    {
      "cell_type": "code",
      "source": [
        "print(\"06_get_last_element\")\n",
        "\n",
        "def get_last_element(lst):\n",
        "    print(lst[-1])\n",
        "\n",
        "def main():\n",
        "    lst = [1, 2, 3, 4, 5]  # Example list; you can change this or take user input\n",
        "    get_last_element(lst)\n",
        "\n",
        "if __name__ == \"__main__\":\n",
        "    main()\n"
      ],
      "metadata": {
        "colab": {
          "base_uri": "https://localhost:8080/"
        },
        "id": "lbe7LlkwhcHo",
        "outputId": "c317dc7d-4115-4dc4-d05a-b80fcec63614"
      },
      "execution_count": 6,
      "outputs": [
        {
          "output_type": "stream",
          "name": "stdout",
          "text": [
            "06_get_last_element\n",
            "5\n"
          ]
        }
      ]
    },
    {
      "cell_type": "code",
      "source": [
        "print(\"05_get_last_element\")\n",
        "\n",
        "def get_last_element(lst):\n",
        "    print(lst[-1])\n",
        "\n",
        "def get_1st():\n",
        "    lst = []\n",
        "    elem = input(\"Enter an element to add to the list: \")\n",
        "    while elem != \"*\":\n",
        "        lst.append(elem)\n",
        "        elem = input(\"Enter an element to add to the list (or '*' to stop): \")\n",
        "    return lst\n",
        "\n",
        "def main():\n",
        "    lst = get_1st()\n",
        "    get_last_element(lst)\n",
        "\n",
        "if __name__ == \"__main__\":\n",
        "    main()\n",
        "kh"
      ],
      "metadata": {
        "colab": {
          "base_uri": "https://localhost:8080/"
        },
        "id": "I9-mOi9ph47c",
        "outputId": "3db69cdd-1210-4dd4-ff27-f5db2ffc83a4"
      },
      "execution_count": 9,
      "outputs": [
        {
          "output_type": "stream",
          "name": "stdout",
          "text": [
            "05_get_last_element\n",
            "Enter an element to add to the list: k\n",
            "Enter an element to add to the list (or '*' to stop): \n",
            "Enter an element to add to the list (or '*' to stop): h\n",
            "Enter an element to add to the list (or '*' to stop): h\n",
            "Enter an element to add to the list (or '*' to stop): *\n",
            "h\n"
          ]
        }
      ]
    },
    {
      "cell_type": "code",
      "source": [
        "print(\"07_get_list\")\n",
        "\n",
        "def main():\n",
        "    lst = []  # Fixed the variable name to 'lst'\n",
        "    val = input(\"Enter a value to add to the list: \")\n",
        "\n",
        "    while val:\n",
        "        lst.append(val)  # Added value to list\n",
        "        val = input(\"Enter a value to add to the list (leave blank to stop): \")  # Changed 'val - input' to 'val = input'\n",
        "\n",
        "    print(\"Here's the list:\", lst)\n",
        "\n",
        "if __name__ == \"__main__\":  # Fixed 'name' to '__name__' and checked the main function properly\n",
        "    main()\n"
      ],
      "metadata": {
        "colab": {
          "base_uri": "https://localhost:8080/"
        },
        "id": "jOhQU-JHiuzd",
        "outputId": "c34f284b-ceb7-4eec-c2fb-80f4d62bd945"
      },
      "execution_count": 10,
      "outputs": [
        {
          "output_type": "stream",
          "name": "stdout",
          "text": [
            "07_get_list\n",
            "Enter a value to add to the list: k\n",
            "Enter a value to add to the list (leave blank to stop): h\n",
            "Enter a value to add to the list (leave blank to stop): \n",
            "Here's the list: ['k', 'h']\n"
          ]
        }
      ]
    },
    {
      "cell_type": "code",
      "source": [
        "print(\"08_shorten\")\n",
        "\n",
        "MAX_LENGTH = 3  # Fixed the variable name and removed the type annotation which was incorrect\n",
        "\n",
        "def shorten(lst):  # Fixed variable name '1st' to 'lst'\n",
        "    while len(lst) > MAX_LENGTH:  # Changed '1st' to 'lst'\n",
        "        last_element = lst.pop()  # Fixed variable name 'last element' to 'last_element'\n",
        "        print(last_element)\n",
        "\n",
        "def get_lst():  # Changed function name to 'get_lst' for better clarity\n",
        "    lst = []  # Fixed the variable name '1st' to 'lst'\n",
        "    element = input(\"Enter an element to add to the list: \")\n",
        "    while element != \"\":\n",
        "        lst.append(element)  # Fixed the assignment operator and added input correctly\n",
        "        element = input(\"Enter an element to add to the list (leave blank to stop): \")\n",
        "    return lst\n",
        "\n",
        "def main():\n",
        "    lst = get_lst()  # Changed '1st' to 'lst'\n",
        "    shorten(lst)\n",
        "\n",
        "if __name__ == \"__main__\":  # Fixed 'name' to '__name__'\n",
        "    main()\n"
      ],
      "metadata": {
        "colab": {
          "base_uri": "https://localhost:8080/"
        },
        "id": "Djc5pBrgjCXY",
        "outputId": "239cac08-451c-439b-b83e-9452558ac844"
      },
      "execution_count": 11,
      "outputs": [
        {
          "name": "stdout",
          "output_type": "stream",
          "text": [
            "08_shorten\n",
            "Enter an element to add to the list: k\n",
            "Enter an element to add to the list (leave blank to stop): \n"
          ]
        }
      ]
    }
  ]
}