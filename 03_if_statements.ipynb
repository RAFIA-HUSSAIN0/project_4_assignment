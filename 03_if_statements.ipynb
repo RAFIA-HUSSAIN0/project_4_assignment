{
  "nbformat": 4,
  "nbformat_minor": 0,
  "metadata": {
    "colab": {
      "provenance": [],
      "authorship_tag": "ABX9TyNfgplCf6dghqmdWmg6bjNG",
      "include_colab_link": true
    },
    "kernelspec": {
      "name": "python3",
      "display_name": "Python 3"
    },
    "language_info": {
      "name": "python"
    }
  },
  "cells": [
    {
      "cell_type": "markdown",
      "metadata": {
        "id": "view-in-github",
        "colab_type": "text"
      },
      "source": [
        "<a href=\"https://colab.research.google.com/github/RAFIA-HUSSAIN0/project_4_assignment/blob/main/03_if_statements.ipynb\" target=\"_parent\"><img src=\"https://colab.research.google.com/assets/colab-badge.svg\" alt=\"Open In Colab\"/></a>"
      ]
    },
    {
      "cell_type": "code",
      "execution_count": 1,
      "metadata": {
        "colab": {
          "base_uri": "https://localhost:8080/"
        },
        "id": "VT-jaDqrmrdZ",
        "outputId": "5174205c-ac77-43f4-8f78-5e54ec6cd46e"
      },
      "outputs": [
        {
          "output_type": "stream",
          "name": "stdout",
          "text": [
            "01_print_events\n",
            "2\n",
            "4\n",
            "6\n",
            "8\n",
            "10\n",
            "12\n",
            "14\n",
            "16\n",
            "18\n",
            "20\n",
            "22\n",
            "24\n",
            "26\n",
            "28\n",
            "30\n",
            "32\n",
            "34\n",
            "36\n",
            "38\n",
            "40\n"
          ]
        }
      ],
      "source": [
        "print(\"01_print_events\")\n",
        "\n",
        "def even():\n",
        "    for i in range(1, 21):  # Loop to print first 20 even numbers\n",
        "        even_number = i * 2\n",
        "        print(even_number)\n",
        "\n",
        "if __name__ == \"__main__\":\n",
        "    even()\n"
      ]
    },
    {
      "cell_type": "code",
      "source": [
        "def can_vote(age):\n",
        "    # Voting ages for each country\n",
        "    peturksbouipo_age = 16\n",
        "    stanlau_age = 25\n",
        "    mayengua_age = 48\n",
        "\n",
        "    # Check voting eligibility\n",
        "    if age >= peturksbouipo_age:\n",
        "        print(f\"You can vote in Peturksbouipo where the voting age is {peturksbouipo_age}.\")\n",
        "    else:\n",
        "        print(f\"You cannot vote in Peturksbouipo where the voting age is {peturksbouipo_age}.\")\n",
        "\n",
        "    if age >= stanlau_age:\n",
        "        print(f\"You can vote in Stanlau where the voting age is {stanlau_age}.\")\n",
        "    else:\n",
        "        print(f\"You cannot vote in Stanlau where the voting age is {stanlau_age}.\")\n",
        "\n",
        "    if age >= mayengua_age:\n",
        "        print(f\"You can vote in Mayengua where the voting age is {mayengua_age}.\")\n",
        "    else:\n",
        "        print(f\"You cannot vote in Mayengua where the voting age is {mayengua_age}.\")\n",
        "\n",
        "# Prompt for user input\n",
        "age = int(input(\"How old are you? \"))\n",
        "can_vote(age)\n"
      ],
      "metadata": {
        "colab": {
          "base_uri": "https://localhost:8080/"
        },
        "id": "V3ddoWUon4h6",
        "outputId": "d1787b5a-c53a-4009-cb96-621541e9416c"
      },
      "execution_count": 2,
      "outputs": [
        {
          "output_type": "stream",
          "name": "stdout",
          "text": [
            "How old are you? 8\n",
            "You cannot vote in Peturksbouipo where the voting age is 16.\n",
            "You cannot vote in Stanlau where the voting age is 25.\n",
            "You cannot vote in Mayengua where the voting age is 48.\n"
          ]
        }
      ]
    },
    {
      "cell_type": "code",
      "source": [
        "print(\"03_leap_year\")\n",
        "\n",
        "def leap_year():\n",
        "    year = int(input(\"Enter a year: \"))\n",
        "\n",
        "    # Check for leap year\n",
        "    if year % 4 == 0:\n",
        "        if year % 100 == 0:\n",
        "            if year % 400 == 0:\n",
        "                print(f\"{year} is a leap year.\")\n",
        "            else:\n",
        "                print(f\"{year} is not a leap year.\")\n",
        "        else:\n",
        "            print(f\"{year} is a leap year.\")\n",
        "    else:\n",
        "        print(f\"{year} is not a leap year.\")\n",
        "\n",
        "if __name__ == \"__main__\":\n",
        "    leap_year()\n"
      ],
      "metadata": {
        "colab": {
          "base_uri": "https://localhost:8080/"
        },
        "id": "FM5EccZWn_A2",
        "outputId": "d9a05d2a-0d93-4eeb-d8cc-0d9ebc59f62c"
      },
      "execution_count": 3,
      "outputs": [
        {
          "output_type": "stream",
          "name": "stdout",
          "text": [
            "03_leap_year\n",
            "Enter a year: 2024\n",
            "2024 is a leap year.\n"
          ]
        }
      ]
    },
    {
      "cell_type": "code",
      "source": [
        "print(\"04_tall_enough_to_ride\")\n",
        "\n",
        "min_height = 50\n",
        "\n",
        "def main():\n",
        "    user = int(input(\"How tall are you? \"))\n",
        "    if user >= min_height:\n",
        "        print(\"You are tall enough to ride.\")\n",
        "    else:\n",
        "        print(\"You are not tall enough to ride. Maybe next year.\")\n",
        "\n",
        "if __name__ == \"__main__\":\n",
        "    main()\n",
        "\n"
      ],
      "metadata": {
        "colab": {
          "base_uri": "https://localhost:8080/"
        },
        "id": "OB6oWfbao3-6",
        "outputId": "14ef3a12-6506-45c1-ce36-72df2392eea4"
      },
      "execution_count": 4,
      "outputs": [
        {
          "output_type": "stream",
          "name": "stdout",
          "text": [
            "04_tall_enough_to_ride\n",
            "How tall are you? 6\n",
            "You are not tall enough to ride. Maybe next year.\n"
          ]
        }
      ]
    },
    {
      "cell_type": "code",
      "source": [
        "import random\n",
        "\n",
        "def main():\n",
        "    for i in range(10):\n",
        "        num = random.randint(1, 100)  # Generate a random number between 1 and 100\n",
        "        print(num)\n",
        "\n",
        "if __name__ == \"__main__\":\n",
        "    main()\n"
      ],
      "metadata": {
        "colab": {
          "base_uri": "https://localhost:8080/"
        },
        "id": "icGCEWfCpKKv",
        "outputId": "4bf6b6c5-e20a-42d5-9687-42da3c823054"
      },
      "execution_count": 5,
      "outputs": [
        {
          "output_type": "stream",
          "name": "stdout",
          "text": [
            "74\n",
            "55\n",
            "71\n",
            "62\n",
            "15\n",
            "38\n",
            "27\n",
            "28\n",
            "84\n",
            "6\n"
          ]
        }
      ]
    }
  ]
}